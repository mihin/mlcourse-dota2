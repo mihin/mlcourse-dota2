{
 "cells": [
  {
   "cell_type": "markdown",
   "metadata": {},
   "source": [
    "## In this tutorial:\n",
    "* What is a Neural Net?\n",
    "* Prepairing data for NN\n",
    "* Defining NN model (introducing keras..)\n",
    "* Evaluation and Results\n",
    "* Submition"
   ]
  },
  {
   "cell_type": "markdown",
   "metadata": {},
   "source": [
    "## 1) What is a Neural Net?\n",
    "\n",
    "Just kidding, everyone knows it)\n",
    "\n",
    "Here is the definition from Wikipedia:\n",
    "\n",
    "A neural network (NN), in the case of artificial neurons called artificial neural network (ANN) or simulated neural network (SNN), is an interconnected group of natural or artificial neurons that uses a mathematical or computational model for information processing based on a connectionistic approach to computation. In most cases an ANN is an adaptive system that changes its structure based on external or internal information that flows through the network.\n",
    "\n",
    "Basicly, this picture shows the whole philosophy of Neural Nets\n",
    "![](https://www.neuraldesigner.com/images/deep_neural_network_big.png)\n",
    "\n",
    "So we take some inputs, combine them with a some weights, apply some kind of non-linear transformation, then pass the data to next layer and so on...\n",
    "\n",
    "Some usefull resources:\n",
    "* [video by 3Blue1Brown](https://www.youtube.com/watch?v=aircAruvnKk)\n",
    "* [www.deeplearning.ai](https://www.deeplearning.ai/)\n",
    "* [cs231n Stanford Course](http://cs231n.github.io/)\n",
    "* and many more..."
   ]
  },
  {
   "cell_type": "markdown",
   "metadata": {},
   "source": [
    "## 2) Prepairing data for NN\n",
    "\n",
    "Nothing special in preparing data for NN, we can easily feed NN with our tabular data with numeric values. "
   ]
  },
  {
   "cell_type": "markdown",
   "metadata": {},
   "source": [
    "First, let's import our data. \n",
    "\n",
    "PS: we will be importing required packadges on the fly.."
   ]
  },
  {
   "cell_type": "code",
   "execution_count": 1,
   "metadata": {},
   "outputs": [],
   "source": [
    "import os\n",
    "import pandas as pd\n",
    "\n",
    "PATH_TO_DATA = '../input'\n",
    "\n",
    "df_train_features = pd.read_csv(os.path.join(PATH_TO_DATA, \n",
    "                                             'train_features.csv'), \n",
    "                                    index_col='match_id_hash')\n",
    "\n",
    "df_train_targets = pd.read_csv(os.path.join(PATH_TO_DATA, \n",
    "                                            'train_targets.csv'), \n",
    "                                   index_col='match_id_hash')\n",
    "\n",
    "df_test_features = pd.read_csv(os.path.join(PATH_TO_DATA, \n",
    "                                            'test_features.csv'), \n",
    "                                   index_col='match_id_hash')"
   ]
  },
  {
   "cell_type": "markdown",
   "metadata": {},
   "source": [
    "Let's use some short notations:"
   ]
  },
  {
   "cell_type": "code",
   "execution_count": 2,
   "metadata": {},
   "outputs": [],
   "source": [
    "X = df_train_features\n",
    "y = df_train_targets['radiant_win'].astype('int') #models prefer numbers instead of True/False labels\n",
    "test = df_test_features"
   ]
  },
  {
   "cell_type": "markdown",
   "metadata": {},
   "source": [
    "We will need to evaluate the NN model on a validation set to see the performance. So, let's divide our train data (X) to train and validation sets:"
   ]
  },
  {
   "cell_type": "code",
   "execution_count": 3,
   "metadata": {},
   "outputs": [],
   "source": [
    "from sklearn.model_selection import train_test_split\n",
    "X_train, X_valid, y_train, y_valid = train_test_split(X, y, \n",
    "                                                      test_size=0.25, random_state=17, \n",
    "                                                      shuffle=True, stratify=y)"
   ]
  },
  {
   "cell_type": "markdown",
   "metadata": {},
   "source": [
    "Let's confirm dimensions visualy:"
   ]
  },
  {
   "cell_type": "code",
   "execution_count": 4,
   "metadata": {},
   "outputs": [
    {
     "data": {
      "text/plain": [
       "((29756, 245), (9919, 245), (29756,), (9919,))"
      ]
     },
     "execution_count": 4,
     "metadata": {},
     "output_type": "execute_result"
    }
   ],
   "source": [
    "X_train.shape, X_valid.shape, y_train.shape, y_valid.shape"
   ]
  },
  {
   "cell_type": "markdown",
   "metadata": {},
   "source": [
    "That's all! Our data is ready)"
   ]
  },
  {
   "cell_type": "markdown",
   "metadata": {},
   "source": [
    "## 3) Defining NN model\n",
    "\n",
    "In this tutorial we will implement Neural Network using Keras."
   ]
  },
  {
   "cell_type": "markdown",
   "metadata": {},
   "source": [
    "**Keras** is a high-level neural networks API, written in Python and capable of running on top of TensorFlow, CNTK, or Theano. It was developed with a focus on enabling fast experimentation. Being able to go from idea to result with the least possible delay is key to doing good research.\n",
    "\n",
    "More info about keras is [here](https://keras.io/)"
   ]
  },
  {
   "cell_type": "markdown",
   "metadata": {},
   "source": [
    "First, let's import keras packages..."
   ]
  },
  {
   "cell_type": "code",
   "execution_count": 5,
   "metadata": {},
   "outputs": [
    {
     "name": "stderr",
     "output_type": "stream",
     "text": [
      "Using TensorFlow backend.\n"
     ]
    }
   ],
   "source": [
    "#we will use Sequential model, where we can add layers easily\n",
    "from keras.models import Sequential\n",
    "\n",
    "#now we import different layer types to use in our model\n",
    "from keras.layers import Dense, Activation, Dropout, BatchNormalization\n",
    "\n",
    "#we will have to optimize the model, so\n",
    "from keras import optimizers\n",
    "\n",
    "#tools to control overfitting\n",
    "from keras.callbacks import EarlyStopping"
   ]
  },
  {
   "cell_type": "markdown",
   "metadata": {},
   "source": [
    "We can run keras model on GPU to accelerate computations. To do so, firstly, we have to switch on GPU (it is in the settings, on the right side of the kaggle kernel) and check whether we are on GPU:"
   ]
  },
  {
   "cell_type": "code",
   "execution_count": 6,
   "metadata": {},
   "outputs": [
    {
     "data": {
      "text/plain": [
       "['/job:localhost/replica:0/task:0/device:GPU:0']"
      ]
     },
     "execution_count": 6,
     "metadata": {},
     "output_type": "execute_result"
    }
   ],
   "source": [
    "#is keras on gpu?\n",
    "from keras import backend as K\n",
    "K.tensorflow_backend._get_available_gpus()"
   ]
  },
  {
   "cell_type": "markdown",
   "metadata": {},
   "source": [
    "Keras NN model can be evaluated on lots of metrics with just passing the metric name, but it is not the case for ROC_AUC score, so we will define our own auc metric function:"
   ]
  },
  {
   "cell_type": "code",
   "execution_count": 7,
   "metadata": {
    "_cell_guid": "b1076dfc-b9ad-4769-8c92-a6c4dae69d19",
    "_uuid": "8f2839f25d086af736a60e9eeb907d3b93b6e0e5"
   },
   "outputs": [],
   "source": [
    "def auc(y_true, y_pred):\n",
    "    auc = tf.metrics.auc(y_true, y_pred)[1]\n",
    "    K.get_session().run(tf.local_variables_initializer())\n",
    "    return auc"
   ]
  },
  {
   "cell_type": "markdown",
   "metadata": {},
   "source": [
    "### Finally, it's time to define the model itself:"
   ]
  },
  {
   "cell_type": "code",
   "execution_count": 8,
   "metadata": {
    "_cell_guid": "79c7e3d0-c299-4dcb-8224-4455121ee9b0",
    "_uuid": "d629ff2d2480ee46fbb7e2d37f6b5fab8052498a"
   },
   "outputs": [
    {
     "name": "stdout",
     "output_type": "stream",
     "text": [
      "WARNING:tensorflow:From /opt/conda/lib/python3.6/site-packages/tensorflow/python/framework/op_def_library.py:263: colocate_with (from tensorflow.python.framework.ops) is deprecated and will be removed in a future version.\n",
      "Instructions for updating:\n",
      "Colocations handled automatically by placer.\n",
      "WARNING:tensorflow:From /opt/conda/lib/python3.6/site-packages/keras/backend/tensorflow_backend.py:3445: calling dropout (from tensorflow.python.ops.nn_ops) with keep_prob is deprecated and will be removed in a future version.\n",
      "Instructions for updating:\n",
      "Please use `rate` instead of `keep_prob`. Rate should be set to `rate = 1 - keep_prob`.\n"
     ]
    }
   ],
   "source": [
    "model = Sequential() #we define the model\n",
    "\n",
    "#first layer\n",
    "model.add(Dense(512,input_dim=X_train.shape[1])) #basicly,245x512 matrix of weights\n",
    "model.add(BatchNormalization()) #makes NN learning easier\n",
    "model.add(Activation('relu')) #applying non-linear transformation\n",
    "model.add(Dropout(0.2)) #say no to overfitting\n",
    "\n",
    "#second layer\n",
    "model.add(Dense(256)) #here we don't have to specify its input_dim, it knows it from previous layer automaticly\n",
    "model.add(BatchNormalization())\n",
    "model.add(Activation('relu'))\n",
    "model.add(Dropout(0.2))\n",
    "\n",
    "#third layer\n",
    "model.add(Dense(256)) #here we don't have to specify its input_dim, it knows it from previous layer automaticly\n",
    "model.add(BatchNormalization())\n",
    "model.add(Activation('relu'))\n",
    "model.add(Dropout(0.2))\n",
    "\n",
    "#you can experiment with the number of layers as well...\n",
    "\n",
    "#now the final layer to convert everything to one number(probability)\n",
    "model.add(Dense(1, activation='sigmoid'))"
   ]
  },
  {
   "cell_type": "markdown",
   "metadata": {},
   "source": [
    "That's all! Our model is ready! Lets see it once again:"
   ]
  },
  {
   "cell_type": "code",
   "execution_count": 9,
   "metadata": {},
   "outputs": [
    {
     "name": "stdout",
     "output_type": "stream",
     "text": [
      "_________________________________________________________________\n",
      "Layer (type)                 Output Shape              Param #   \n",
      "=================================================================\n",
      "dense_1 (Dense)              (None, 512)               125952    \n",
      "_________________________________________________________________\n",
      "batch_normalization_1 (Batch (None, 512)               2048      \n",
      "_________________________________________________________________\n",
      "activation_1 (Activation)    (None, 512)               0         \n",
      "_________________________________________________________________\n",
      "dropout_1 (Dropout)          (None, 512)               0         \n",
      "_________________________________________________________________\n",
      "dense_2 (Dense)              (None, 256)               131328    \n",
      "_________________________________________________________________\n",
      "batch_normalization_2 (Batch (None, 256)               1024      \n",
      "_________________________________________________________________\n",
      "activation_2 (Activation)    (None, 256)               0         \n",
      "_________________________________________________________________\n",
      "dropout_2 (Dropout)          (None, 256)               0         \n",
      "_________________________________________________________________\n",
      "dense_3 (Dense)              (None, 256)               65792     \n",
      "_________________________________________________________________\n",
      "batch_normalization_3 (Batch (None, 256)               1024      \n",
      "_________________________________________________________________\n",
      "activation_3 (Activation)    (None, 256)               0         \n",
      "_________________________________________________________________\n",
      "dropout_3 (Dropout)          (None, 256)               0         \n",
      "_________________________________________________________________\n",
      "dense_4 (Dense)              (None, 1)                 257       \n",
      "=================================================================\n",
      "Total params: 327,425\n",
      "Trainable params: 325,377\n",
      "Non-trainable params: 2,048\n",
      "_________________________________________________________________\n"
     ]
    }
   ],
   "source": [
    "model.summary()"
   ]
  },
  {
   "cell_type": "markdown",
   "metadata": {},
   "source": [
    "Now, we will define optimizer and a callback:"
   ]
  },
  {
   "cell_type": "code",
   "execution_count": 10,
   "metadata": {},
   "outputs": [],
   "source": [
    "#Adam optimizer, there others as well, like RMSProp\n",
    "adam = optimizers.Adam(lr=0.01, beta_1=0.9, beta_2=0.999)\n",
    "\n",
    "#EarlyStop if things does not improve for some time\n",
    "earlystop = EarlyStopping(monitor=\"val_auc\", patience=20, verbose=1, mode='max')"
   ]
  },
  {
   "cell_type": "code",
   "execution_count": 11,
   "metadata": {},
   "outputs": [
    {
     "name": "stdout",
     "output_type": "stream",
     "text": [
      "WARNING:tensorflow:From /opt/conda/lib/python3.6/site-packages/tensorflow/python/ops/metrics_impl.py:526: to_float (from tensorflow.python.ops.math_ops) is deprecated and will be removed in a future version.\n",
      "Instructions for updating:\n",
      "Use tf.cast instead.\n",
      "WARNING:tensorflow:From /opt/conda/lib/python3.6/site-packages/tensorflow/python/ops/metrics_impl.py:788: div (from tensorflow.python.ops.math_ops) is deprecated and will be removed in a future version.\n",
      "Instructions for updating:\n",
      "Deprecated in favor of operator or tf.math.divide.\n"
     ]
    }
   ],
   "source": [
    "#Telling the model what to do...\n",
    "import tensorflow as tf\n",
    "model.compile(optimizer=adam,loss='binary_crossentropy',metrics = [auc])  "
   ]
  },
  {
   "cell_type": "markdown",
   "metadata": {},
   "source": [
    "## 4) Evaluation and Results"
   ]
  },
  {
   "cell_type": "markdown",
   "metadata": {},
   "source": [
    "We will run the model using \"history\", so we will be able to see the performance by time"
   ]
  },
  {
   "cell_type": "code",
   "execution_count": 12,
   "metadata": {},
   "outputs": [
    {
     "name": "stdout",
     "output_type": "stream",
     "text": [
      "WARNING:tensorflow:From /opt/conda/lib/python3.6/site-packages/tensorflow/python/ops/math_ops.py:3066: to_int32 (from tensorflow.python.ops.math_ops) is deprecated and will be removed in a future version.\n",
      "Instructions for updating:\n",
      "Use tf.cast instead.\n",
      "Train on 29756 samples, validate on 9919 samples\n",
      "Epoch 1/20\n",
      "29756/29756 [==============================] - 7s 239us/step - loss: 0.5627 - auc: 0.7447 - val_loss: 0.5277 - val_auc: 0.7775\n",
      "Epoch 2/20\n",
      "29756/29756 [==============================] - 6s 195us/step - loss: 0.5390 - auc: 0.7851 - val_loss: 0.5597 - val_auc: 0.7864\n",
      "Epoch 3/20\n",
      "29756/29756 [==============================] - 6s 194us/step - loss: 0.5329 - auc: 0.7886 - val_loss: 0.5538 - val_auc: 0.7902\n",
      "Epoch 4/20\n",
      "29756/29756 [==============================] - 6s 192us/step - loss: 0.5314 - auc: 0.7918 - val_loss: 0.5158 - val_auc: 0.7928\n",
      "Epoch 5/20\n",
      "29756/29756 [==============================] - 6s 192us/step - loss: 0.5306 - auc: 0.7940 - val_loss: 0.5201 - val_auc: 0.7948\n",
      "Epoch 6/20\n",
      "29756/29756 [==============================] - 6s 193us/step - loss: 0.5290 - auc: 0.7957 - val_loss: 0.5304 - val_auc: 0.7963\n",
      "Epoch 7/20\n",
      "29756/29756 [==============================] - 6s 196us/step - loss: 0.5297 - auc: 0.7969 - val_loss: 0.5167 - val_auc: 0.7974\n",
      "Epoch 8/20\n",
      "29756/29756 [==============================] - 6s 193us/step - loss: 0.5267 - auc: 0.7982 - val_loss: 0.5163 - val_auc: 0.7986\n",
      "Epoch 9/20\n",
      "29756/29756 [==============================] - 6s 193us/step - loss: 0.5264 - auc: 0.7992 - val_loss: 0.5142 - val_auc: 0.7996\n",
      "Epoch 10/20\n",
      "29756/29756 [==============================] - 6s 191us/step - loss: 0.5246 - auc: 0.8001 - val_loss: 0.5186 - val_auc: 0.8005\n",
      "Epoch 11/20\n",
      "29756/29756 [==============================] - 6s 190us/step - loss: 0.5243 - auc: 0.8009 - val_loss: 0.5228 - val_auc: 0.8012\n",
      "Epoch 12/20\n",
      "29756/29756 [==============================] - 6s 196us/step - loss: 0.5240 - auc: 0.8017 - val_loss: 0.5106 - val_auc: 0.8020\n",
      "Epoch 13/20\n",
      "29756/29756 [==============================] - 6s 191us/step - loss: 0.5225 - auc: 0.8023 - val_loss: 0.5144 - val_auc: 0.8027\n",
      "Epoch 14/20\n",
      "29756/29756 [==============================] - 6s 190us/step - loss: 0.5219 - auc: 0.8030 - val_loss: 0.5200 - val_auc: 0.8032\n",
      "Epoch 15/20\n",
      "29756/29756 [==============================] - 6s 191us/step - loss: 0.5229 - auc: 0.8035 - val_loss: 0.5309 - val_auc: 0.8036\n",
      "Epoch 16/20\n",
      "29756/29756 [==============================] - 6s 189us/step - loss: 0.5232 - auc: 0.8038 - val_loss: 0.5118 - val_auc: 0.8039\n",
      "Epoch 17/20\n",
      "29756/29756 [==============================] - 6s 190us/step - loss: 0.5234 - auc: 0.8041 - val_loss: 0.5135 - val_auc: 0.8043\n",
      "Epoch 18/20\n",
      "29756/29756 [==============================] - 6s 190us/step - loss: 0.5213 - auc: 0.8046 - val_loss: 0.5154 - val_auc: 0.8047\n",
      "Epoch 19/20\n",
      "29756/29756 [==============================] - 6s 190us/step - loss: 0.5219 - auc: 0.8049 - val_loss: 0.5244 - val_auc: 0.8049\n",
      "Epoch 20/20\n",
      "29756/29756 [==============================] - 6s 191us/step - loss: 0.5200 - auc: 0.8051 - val_loss: 0.5185 - val_auc: 0.8052\n"
     ]
    }
   ],
   "source": [
    "history = model.fit(X_train, y_train, validation_data = (X_valid,y_valid),\\\n",
    "                       epochs=20,batch_size=64,verbose=1,callbacks=[earlystop])"
   ]
  },
  {
   "cell_type": "markdown",
   "metadata": {},
   "source": [
    "Surely, you can play with number of epochs, batch size, callbacks and other params"
   ]
  },
  {
   "cell_type": "markdown",
   "metadata": {},
   "source": [
    "Now, after our model has been trained lets see its performance"
   ]
  },
  {
   "cell_type": "code",
   "execution_count": 13,
   "metadata": {},
   "outputs": [
    {
     "data": {
      "image/png": "[encoded data removed]",
      "text/plain": [
       "<Figure size 432x288 with 2 Axes>"
      ]
     },
     "metadata": {},
     "output_type": "display_data"
    }
   ],
   "source": [
    "# Plot the loss and auc curves for training and validation \n",
    "import matplotlib.pyplot as plt\n",
    "\n",
    "fig, ax = plt.subplots(2,1)\n",
    "ax[0].plot(history.history['loss'], color='b', label=\"Training loss\")\n",
    "ax[0].plot(history.history['val_loss'], color='r', label=\"validation loss\",axes =ax[0])\n",
    "legend = ax[0].legend(loc='best', shadow=True)\n",
    "\n",
    "ax[1].plot(history.history['auc'], color='b', label=\"Training auc\")\n",
    "ax[1].plot(history.history['val_auc'], color='r',label=\"Validation auc\")\n",
    "legend = ax[1].legend(loc='best', shadow=True)"
   ]
  },
  {
   "cell_type": "markdown",
   "metadata": {},
   "source": [
    "Hmm, validation loss looks funny at least).  We need to investigate more the learning curves and adjust the model properly. Andrew Ng explains learning curves in this [video](https://www.youtube.com/watch?v=ISBGFY-gBug)"
   ]
  },
  {
   "cell_type": "markdown",
   "metadata": {},
   "source": [
    "## Prediction and Submition"
   ]
  },
  {
   "cell_type": "code",
   "execution_count": 14,
   "metadata": {},
   "outputs": [],
   "source": [
    "#simply as it\n",
    "predictions = model.predict(test)[:,0]"
   ]
  },
  {
   "cell_type": "markdown",
   "metadata": {},
   "source": [
    "Let's see them"
   ]
  },
  {
   "cell_type": "code",
   "execution_count": 15,
   "metadata": {},
   "outputs": [
    {
     "data": {
      "text/plain": [
       "array([0.5288087 , 0.9177419 , 0.8940541 , ..., 0.4407952 , 0.54621243,\n",
       "       0.16022754], dtype=float32)"
      ]
     },
     "execution_count": 15,
     "metadata": {},
     "output_type": "execute_result"
    }
   ],
   "source": [
    "predictions"
   ]
  },
  {
   "cell_type": "markdown",
   "metadata": {},
   "source": [
    "Looks realistic)"
   ]
  },
  {
   "cell_type": "markdown",
   "metadata": {},
   "source": [
    "### Submition"
   ]
  },
  {
   "cell_type": "code",
   "execution_count": 16,
   "metadata": {},
   "outputs": [
    {
     "name": "stdout",
     "output_type": "stream",
     "text": [
      "Submission saved to submission_2019-04-03_19-04-57.csv\n"
     ]
    }
   ],
   "source": [
    "df_submission = pd.DataFrame({'radiant_win_prob': predictions}, \n",
    "                                 index=df_test_features.index)\n",
    "import datetime\n",
    "submission_filename = 'submission_{}.csv'.format(\n",
    "    datetime.datetime.now().strftime('%Y-%m-%d_%H-%M-%S'))\n",
    "df_submission.to_csv(submission_filename)\n",
    "print('Submission saved to {}'.format(submission_filename))"
   ]
  },
  {
   "cell_type": "markdown",
   "metadata": {},
   "source": [
    "#### Hope this tutorial was useful, feel free fork, experiment and upvote."
   ]
  },
  {
   "cell_type": "code",
   "execution_count": 17,
   "metadata": {},
   "outputs": [],
   "source": []
  }
 ],
 "metadata": {
  "kernelspec": {
   "display_name": "Python 3",
   "language": "python",
   "name": "python3"
  },
  "language_info": {
   "codemirror_mode": {
    "name": "ipython",
    "version": 3
   },
   "file_extension": ".py",
   "mimetype": "text/x-python",
   "name": "python",
   "nbconvert_exporter": "python",
   "pygments_lexer": "ipython3",
   "version": "3.6.4"
  }
 },
 "nbformat": 4,
 "nbformat_minor": 1
}
